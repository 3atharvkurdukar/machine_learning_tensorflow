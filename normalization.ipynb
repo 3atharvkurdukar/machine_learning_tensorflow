{
 "cells": [
  {
   "cell_type": "markdown",
   "metadata": {},
   "source": [
    "# Normalization Techniques for Data Preprocessing"
   ]
  },
  {
   "cell_type": "code",
   "execution_count": 67,
   "metadata": {},
   "outputs": [],
   "source": [
    "import math\n",
    "import numpy as np\n",
    "import matplotlib.pyplot as plt"
   ]
  },
  {
   "cell_type": "code",
   "execution_count": 89,
   "metadata": {},
   "outputs": [],
   "source": [
    "def show_graph(data): \n",
    "    plt.hist(data)\n",
    "    plt.show()"
   ]
  },
  {
   "cell_type": "code",
   "execution_count": 96,
   "metadata": {},
   "outputs": [
    {
     "data": {
      "image/png": "[encoded data removed]",
      "text/plain": [
       "<Figure size 432x288 with 1 Axes>"
      ]
     },
     "metadata": {
      "needs_background": "light"
     },
     "output_type": "display_data"
    }
   ],
   "source": [
    "data = [15, 14, 12, 13, 15, 16, 14, 12, 14, 11, 16, 14, 12, 13, 12]\n",
    "\n",
    "show_graph(data)"
   ]
  },
  {
   "cell_type": "markdown",
   "metadata": {},
   "source": [
    "## Z-Score Normalization\n",
    "1. Find the mean of input elements as:  \n",
    "$\\bar {x} = \\frac {\\sum_{i=1}^{N} x_i} {N}$\n",
    "2. Find the standard deviation of input elements as:  \n",
    "$s = \\sqrt {\\frac {1}{N} \\times \\sum_{i=1}^{n} (x_i - \\bar{x})^2 }$\n",
    "3. Apply z-score formula for every element as:  \n",
    "$x_i' = \\frac {x_i - \\bar {x}} {s}$"
   ]
  },
  {
   "cell_type": "code",
   "execution_count": 97,
   "metadata": {},
   "outputs": [
    {
     "name": "stdout",
     "output_type": "stream",
     "text": [
      "[0.9780192938436517, 0.31118795713207104, -1.0224747162910903, -0.3556433795795096, 0.9780192938436517, 1.6448506305552324, 0.31118795713207104, -1.0224747162910903, 0.31118795713207104, -1.689306053002671, 1.6448506305552324, 0.31118795713207104, -1.0224747162910903, -0.3556433795795096, -1.0224747162910903]\n"
     ]
    },
    {
     "data": {
      "image/png": "[encoded data removed]",
      "text/plain": [
       "<Figure size 432x288 with 1 Axes>"
      ]
     },
     "metadata": {
      "needs_background": "light"
     },
     "output_type": "display_data"
    }
   ],
   "source": [
    "# z-score\n",
    "mean = sum(data) / len(data)\n",
    "std_deviation = math.sqrt(1 / (len(data)) * sum([(x - mean)**2 for x in data]))\n",
    "z_score = [(x - mean) / std_deviation for x in data]\n",
    "print(z_score)\n",
    "\n",
    "show_graph(z_score)"
   ]
  },
  {
   "cell_type": "markdown",
   "metadata": {},
   "source": [
    "## Min-Max Normalization\n",
    "1. Find the minimum & maximum value out of input elements\n",
    "2. Apply min-max formula for every element as:  \n",
    "$x_i' = \\frac {x_i - min} {max - min}$"
   ]
  },
  {
   "cell_type": "code",
   "execution_count": 98,
   "metadata": {},
   "outputs": [
    {
     "name": "stdout",
     "output_type": "stream",
     "text": [
      "[0.8, 0.6, 0.2, 0.4, 0.8, 1.0, 0.6, 0.2, 0.6, 0.0, 1.0, 0.6, 0.2, 0.4, 0.2]\n"
     ]
    },
    {
     "data": {
      "image/png": "[encoded data removed]",
      "text/plain": [
       "<Figure size 432x288 with 1 Axes>"
      ]
     },
     "metadata": {
      "needs_background": "light"
     },
     "output_type": "display_data"
    }
   ],
   "source": [
    "# min-max\n",
    "min_val = min(data)\n",
    "max_val = max(data)\n",
    "min_max = [(x - min_val) / (max_val - min_val) for x in data]\n",
    "print(min_max)\n",
    "\n",
    "show_graph(min_max)"
   ]
  },
  {
   "cell_type": "markdown",
   "metadata": {},
   "source": [
    "## Log-Transform Normalization\n",
    "1. Apply logarithm to each element as:  \n",
    "    $x_i' = \\log {(x)}$"
   ]
  },
  {
   "cell_type": "code",
   "execution_count": 99,
   "metadata": {},
   "outputs": [
    {
     "name": "stdout",
     "output_type": "stream",
     "text": [
      "[2.70805020110221, 2.6390573296152584, 2.4849066497880004, 2.5649493574615367, 2.70805020110221, 2.772588722239781, 2.6390573296152584, 2.4849066497880004, 2.6390573296152584, 2.3978952727983707, 2.772588722239781, 2.6390573296152584, 2.4849066497880004, 2.5649493574615367, 2.4849066497880004]\n"
     ]
    },
    {
     "data": {
      "image/png": "[encoded data removed]",
      "text/plain": [
       "<Figure size 432x288 with 1 Axes>"
      ]
     },
     "metadata": {
      "needs_background": "light"
     },
     "output_type": "display_data"
    }
   ],
   "source": [
    "# Log-Transform\n",
    "log = [math.log(x) for x in data]\n",
    "print(log)\n",
    "\n",
    "show_graph(log)"
   ]
  },
  {
   "cell_type": "markdown",
   "metadata": {},
   "source": [
    "## Unit Vector Transform"
   ]
  },
  {
   "cell_type": "code",
   "execution_count": null,
   "metadata": {},
   "outputs": [],
   "source": []
  }
 ],
 "metadata": {
  "kernelspec": {
   "display_name": "Python 3",
   "language": "python",
   "name": "python3"
  },
  "language_info": {
   "codemirror_mode": {
    "name": "ipython",
    "version": 3
   },
   "file_extension": ".py",
   "mimetype": "text/x-python",
   "name": "python",
   "nbconvert_exporter": "python",
   "pygments_lexer": "ipython3",
   "version": "3.7.1"
  }
 },
 "nbformat": 4,
 "nbformat_minor": 2
}
